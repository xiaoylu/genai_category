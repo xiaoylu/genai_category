{
 "cells": [
  {
   "cell_type": "code",
   "execution_count": 3,
   "metadata": {},
   "outputs": [],
   "source": [
    "import random\n",
    "import matplotlib.pyplot as plt\n",
    "import torch\n",
    "import torch.nn as nn\n",
    "import torch.optim as optim\n",
    "import torch.nn.functional as F\n",
    "from torch.distributions.categorical import Categorical\n",
    "from collections import deque\n",
    "import numpy as np"
   ]
  },
  {
   "cell_type": "code",
   "execution_count": 4,
   "metadata": {},
   "outputs": [
    {
     "name": "stdout",
     "output_type": "stream",
     "text": [
      "[1, 1, 1, 1, 1, 1, 1, 1, 1]\n",
      "[1, 0, 0, 0, 0, 1, 0, 0, 1]\n",
      "[1, 0, 0, 0, 0, 0, 0, 0, 1]\n",
      "[1, 0, 1, 0, 1, 0, 0, 0, 1]\n",
      "[1, 0, 0, 0, 0, 0, 0, 0, 1]\n",
      "[1, 0, 0, 0, 1, 0, 0, 0, 1]\n",
      "[1, 0, 0, 0, 0, 0, 0, 0, 1]\n",
      "[1, 1, 0, 0, 0, 1, 0, 0, 1]\n",
      "[1, 1, 1, 1, 1, 1, 1, 1, 1]\n"
     ]
    }
   ],
   "source": [
    "# Create a maze\n",
    "# All four boundaries are walls (maze[i][j] = 1 if blocked)\n",
    "\n",
    "N = 9\n",
    "maze = [[1 if i in [0, N-1] or j in [0, N-1] else 0 for i in range(N)] for j in range(N)]\n",
    "K = 10\n",
    "for _ in range(K):\n",
    "    i, j = random.randint(1, N-2), random.randint(1, N-2)\n",
    "    maze[i][j] = 1\n",
    "# Maze enters from top left (1,1), exits to bottom right (N-2,N-2).\n",
    "maze[1][1] = 0\n",
    "maze[N-2][N-2] = 0\n",
    "\n",
    "# Enter from 1,1\n",
    "x, y = 1, 1\n",
    "D = [(1,0),(-1,0),(0,-1),(0,1)]\n",
    "# Moves along one direction, block if hit the wall.\n",
    "# Return 1 if reach the exit, 0 otherwise\n",
    "def move(i):\n",
    "    global x,y,D,N\n",
    "    xx = x + D[i][0]\n",
    "    yy = y + D[i][1]\n",
    "    if maze[xx][yy] != 1:\n",
    "        x, y = xx, yy\n",
    "    if x == N-2 and y == N-2:  # Exit from N-2,N-2\n",
    "        return 1\n",
    "    return 0\n",
    "\n",
    "# Show the N*N maze we generated (row/column are 0-indexed)\n",
    "# The goal is to go from the top left (1,1) to bottom right (N-2,N-2)\n",
    "for i in range(N):\n",
    "    print(maze[i])"
   ]
  },
  {
   "cell_type": "code",
   "execution_count": 9,
   "metadata": {},
   "outputs": [
    {
     "data": {
      "text/plain": [
       "CategoricalMLP(\n",
       "  (layer1): Linear(in_features=9, out_features=128, bias=True)\n",
       "  (layer2): Linear(in_features=128, out_features=4, bias=True)\n",
       "  (tanh_activation): Tanh()\n",
       ")"
      ]
     },
     "execution_count": 9,
     "metadata": {},
     "output_type": "execute_result"
    }
   ],
   "source": [
    "# Let's define a policy network.\n",
    "#\n",
    "# It decides where to go according to the local observations only.\n",
    "#\n",
    "# input: the number of observations 3*3, \n",
    "#        the agent can only see its surroudings in the maze.\n",
    "#        (n_obs = 9, aka. the 3*3 local grid)\n",
    "#\n",
    "# output: prob of each action \n",
    "#        (n_acts = 4, aka. go up, down, right, left)\n",
    "#\n",
    "class CategoricalMLP(nn.Module):\n",
    "    def __init__(self, n_obs:int, n_acts:int):\n",
    "        super(CategoricalMLP, self).__init__()\n",
    "        self.layer1 = nn.Linear(n_obs, 128)\n",
    "        self.layer2 = nn.Linear(128, n_acts)\n",
    "        self.tanh_activation = nn.Tanh()\n",
    "    \n",
    "    def forward(self, x):\n",
    "        x = self.layer1(x)\n",
    "        x = self.tanh_activation(x)\n",
    "        x = self.layer2(x)\n",
    "        x = Categorical(logits=x)\n",
    "        return x\n",
    "\n",
    "device = torch.device('cuda' if torch.cuda.is_available() else 'cpu')\n",
    "\n",
    "policy_net = CategoricalMLP(n_obs=3*3, n_acts=4).to(device)\n",
    "\n",
    "# Randomize network weights\n",
    "def init_weights(m):\n",
    "    if isinstance(m, nn.Linear):\n",
    "        torch.nn.init.xavier_uniform_(m.weight)\n",
    "        m.bias.data.fill_(0.01)\n",
    "\n",
    "policy_net.apply(init_weights)"
   ]
  },
  {
   "cell_type": "code",
   "execution_count": 10,
   "metadata": {},
   "outputs": [
    {
     "name": "stdout",
     "output_type": "stream",
     "text": [
      "1  1  1  1  1  1  1  1  1  \n",
      "1  <  ^  ^  ^  1  <  ^  1  \n",
      "1  v  >  v  >  >  ^  ^  1  \n",
      "1  >  1  v  1  v  >  ^  1  \n",
      "1  <  <  ^  <  >  >  ^  1  \n",
      "1  v  >  ^  1  v  >  ^  1  \n",
      "1  >  >  <  ^  >  >  ^  1  \n",
      "1  1  v  >  >  1  v  >  1  \n",
      "1  1  1  1  1  1  1  1  1  \n"
     ]
    }
   ],
   "source": [
    "# Observations, the local 3*3 grid\n",
    "def sub_maze(x, y):\n",
    "    global maze, N\n",
    "    sub = []\n",
    "    for i in [x-1, x, x+1]:\n",
    "        for j in [y-1, y, y+1]:\n",
    "            if 0 <= i < N and 0 <= j < N:\n",
    "                sub.append(maze[i][j])\n",
    "            else:\n",
    "                sub.append(1)\n",
    "    return torch.as_tensor(sub, dtype=torch.float32).to(device)\n",
    "\n",
    "# What is the most likely direction to go from each position?\n",
    "D_sign = ['v', '^', '<', '>']\n",
    "\n",
    "def print_most_likely_moves(maze, policy_net):\n",
    "    for i in range(N):\n",
    "        for j in range(N):\n",
    "            if maze[i][j] == 0:\n",
    "                dist = policy_net(sub_maze(i, j))\n",
    "                best_action = torch.argmax(dist.probs).item()\n",
    "                print(D_sign[best_action], ' ', end='')\n",
    "            else:\n",
    "                print(1, ' ', end='')\n",
    "        print()\n",
    "\n",
    "# Without any training, CategoricalMLP will output random actions.\n",
    "# We can see the most likely direction is kinda random\n",
    "# -- the agent does not go from top left to bottom right\n",
    "print_most_likely_moves(maze, policy_net)"
   ]
  },
  {
   "cell_type": "code",
   "execution_count": 12,
   "metadata": {},
   "outputs": [
    {
     "name": "stdout",
     "output_type": "stream",
     "text": [
      "Epoch 0: steps=90, ends at (1, 1), average steps 90.0\n",
      "Epoch 500: steps=11, ends at (7, 7), average steps 71.9620758483034\n",
      "Epoch 1000: steps=24, ends at (7, 7), average steps 42.62237762237762\n",
      "Epoch 1500: steps=11, ends at (7, 7), average steps 33.2398401065956\n",
      "Epoch 2000: steps=14, ends at (7, 7), average steps 28.67616191904048\n",
      "Epoch 2500: steps=26, ends at (7, 7), average steps 26.532586965213916\n",
      "Epoch 3000: steps=20, ends at (7, 7), average steps 24.46384538487171\n",
      "Epoch 3500: steps=11, ends at (7, 7), average steps 22.756069694373036\n",
      "Epoch 4000: steps=11, ends at (7, 7), average steps 21.41964508872782\n",
      "Epoch 4500: steps=11, ends at (7, 7), average steps 20.370806487447233\n",
      "Epoch 5000: steps=11, ends at (7, 7), average steps 19.59608078384323\n",
      "Epoch 5500: steps=11, ends at (7, 7), average steps 18.82475913470278\n",
      "Epoch 6000: steps=11, ends at (7, 7), average steps 18.82852857857024\n",
      "Epoch 6500: steps=11, ends at (7, 7), average steps 18.357637286571297\n",
      "Epoch 7000: steps=11, ends at (7, 7), average steps 17.86887587487502\n",
      "Epoch 7500: steps=11, ends at (7, 7), average steps 17.435941874416745\n",
      "Epoch 8000: steps=11, ends at (7, 7), average steps 17.197225346831647\n",
      "Epoch 8500: steps=11, ends at (7, 7), average steps 16.841312786730974\n",
      "Epoch 9000: steps=11, ends at (7, 7), average steps 16.52671925341629\n",
      "Epoch 9500: steps=11, ends at (7, 7), average steps 16.23586990843069\n"
     ]
    }
   ],
   "source": [
    "optimizer = optim.Adam(policy_net.parameters(), lr=3e-3)\n",
    "\n",
    "epochs = 10000\n",
    "sum_steps_list = 0\n",
    "step_list = []\n",
    "for epoch in range(epochs):\n",
    "    x, y = 1, 1\n",
    "    loss = 0\n",
    "    steps = 0\n",
    "    max_steps = N * 10\n",
    "    while steps < max_steps: # truncate if stuck\n",
    "        dist = policy_net(sub_maze(x, y))\n",
    "        action = dist.sample()\n",
    "        logp = dist.log_prob(action)\n",
    "\n",
    "        loss += - logp\n",
    "        if move(action.item()) == 1:  # reach exit\n",
    "            break\n",
    "        steps += 1\n",
    "\n",
    "    # truncated by max steps, did not reach exit\n",
    "    if steps == max_steps:\n",
    "        loss *= -1.\n",
    "\n",
    "    optimizer.zero_grad() \n",
    "    loss.backward()\n",
    "    optimizer.step()\n",
    "\n",
    "    step_list.append(steps)\n",
    "    sum_steps_list += steps\n",
    "    if epoch % 500 == 0:\n",
    "        print(f\"Epoch {epoch}: steps={steps}, ends at {x, y}, average steps {sum_steps_list / len(step_list)}\")"
   ]
  },
  {
   "cell_type": "code",
   "execution_count": 18,
   "metadata": {},
   "outputs": [
    {
     "data": {
      "image/png": "[encoded data removed]",
      "text/plain": [
       "<Figure size 640x480 with 1 Axes>"
      ]
     },
     "metadata": {},
     "output_type": "display_data"
    }
   ],
   "source": [
    "import numpy as np\n",
    "import matplotlib.pyplot as plt\n",
    "\n",
    "# Original data\n",
    "data = step_list\n",
    "\n",
    "# Moving average function\n",
    "def moving_average(data, window_size):\n",
    "    return np.convolve(data, np.ones(window_size) / window_size, mode='valid')\n",
    "\n",
    "# Apply moving average\n",
    "smoothed_data = moving_average(data, window_size=500)\n",
    "\n",
    "# Plot original and smoothed data\n",
    "plt.plot(data, label=\"Original Data\")\n",
    "plt.plot(range(1, len(smoothed_data) + 1), smoothed_data, label=\"Smoothed Data\", linestyle=\"--\")\n",
    "plt.xlabel(\"Epoch\")\n",
    "plt.ylabel(f\"Steps to reach destination (Truncate at {max_steps})\")\n",
    "plt.legend()\n",
    "plt.title(\"Data Smoothing with Moving Average\")\n",
    "plt.show()"
   ]
  },
  {
   "cell_type": "code",
   "execution_count": 19,
   "metadata": {},
   "outputs": [
    {
     "name": "stdout",
     "output_type": "stream",
     "text": [
      "step: 0, (1, 1)\n",
      "step: 1, (2, 1)\n",
      "step: 2, (2, 2)\n",
      "step: 3, (2, 3)\n",
      "step: 4, (2, 4)\n",
      "step: 5, (2, 5)\n",
      "step: 6, (3, 5)\n",
      "step: 7, (3, 6)\n",
      "step: 8, (4, 6)\n",
      "step: 9, (5, 6)\n",
      "step: 10, (6, 6)\n",
      "step: 11, (7, 6)\n",
      "step: 12, (7, 7)\n"
     ]
    }
   ],
   "source": [
    "# This is a test run.\n",
    "# Model guided the player to go from (1,1) to (N-2,N-2).\n",
    "x, y = 1, 1\n",
    "steps = 0\n",
    "max_steps = N * 4\n",
    "while steps < max_steps: # truncate if stuck\n",
    "    \n",
    "    dist = policy_net(sub_maze(x, y))\n",
    "    action = dist.sample()\n",
    "    logp = dist.log_prob(action)\n",
    "\n",
    "    print(f\"step: {steps}, {x, y}\")\n",
    "    steps += 1\n",
    "    if move(action.item()) == 1:\n",
    "        print(f\"step: {steps}, {x, y}\")\n",
    "        break\n"
   ]
  },
  {
   "cell_type": "code",
   "execution_count": null,
   "metadata": {},
   "outputs": [
    {
     "name": "stdout",
     "output_type": "stream",
     "text": [
      "1  1  1  1  1  1  1  1  1  \n",
      "1  v  v  v  v  1  v  v  1  \n",
      "1  >  >  >  >  v  v  v  1  \n",
      "1  v  1  >  1  >  v  v  1  \n",
      "1  v  v  v  v  v  v  v  1  \n",
      "1  >  v  v  1  >  v  v  1  \n",
      "1  >  v  v  v  >  v  v  1  \n",
      "1  1  >  >  >  1  >  >  1  \n",
      "1  1  1  1  1  1  1  1  1  \n"
     ]
    }
   ],
   "source": [
    "# What is the most likely direction to go from each position?\n",
    "#\n",
    "# With training, the agent will learn to go\n",
    "# from top left to bottom right more efficiently.\n",
    "# It learns to walk around the blockages to go bottom right.\n",
    "D_sign = ['v', '^', '<', '>']\n",
    "\n",
    "for i in range(N):\n",
    "    for j in range(N):\n",
    "        if maze[i][j] == 0:\n",
    "            dist = policy_net(sub_maze(i, j))\n",
    "            best_action = torch.argmax(dist.probs).item()\n",
    "            print(D_sign[best_action], ' ', end='')\n",
    "        else:\n",
    "            print(1, ' ', end='')\n",
    "    print()\n"
   ]
  }
 ],
 "metadata": {
  "kernelspec": {
   "display_name": "base",
   "language": "python",
   "name": "python3"
  },
  "language_info": {
   "codemirror_mode": {
    "name": "ipython",
    "version": 3
   },
   "file_extension": ".py",
   "mimetype": "text/x-python",
   "name": "python",
   "nbconvert_exporter": "python",
   "pygments_lexer": "ipython3",
   "version": "3.12.9"
  }
 },
 "nbformat": 4,
 "nbformat_minor": 4
}
